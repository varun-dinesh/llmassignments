{
 "cells": [
  {
   "cell_type": "markdown",
   "id": "c99dd7a5",
   "metadata": {},
   "source": [
    "## Question 6 & 7\n",
    "\n",
    "6. Implement XML parser\n",
    "\n",
    "\n",
    "7. Implement YAML parser"
   ]
  },
  {
   "cell_type": "markdown",
   "id": "d723bd13-f8ae-44b3-960e-b79b0b4b6d53",
   "metadata": {},
   "source": [
    "## XML output Parser"
   ]
  },
  {
   "cell_type": "code",
   "execution_count": 5,
   "id": "3f09b6ef-fda4-41be-adef-b9d5011b5467",
   "metadata": {},
   "outputs": [],
   "source": [
    "from langchain_openai import AzureChatOpenAI\n",
    "from langchain_core.output_parsers import CommaSeparatedListOutputParser\n",
    "from langchain_core.prompts import PromptTemplate\n",
    "from langchain.output_parsers import XMLOutputParser"
   ]
  },
  {
   "cell_type": "code",
   "execution_count": null,
   "id": "b64fba29",
   "metadata": {},
   "outputs": [],
   "source": [
    "llm =AzureChatOpenAI(\n",
    "  ##enter credentials \n",
    ")"
   ]
  },
  {
   "cell_type": "code",
   "execution_count": 4,
   "id": "d634a33b-9fff-42b2-b78d-bbb03d3561c8",
   "metadata": {},
   "outputs": [],
   "source": [
    "model = llm"
   ]
  },
  {
   "cell_type": "code",
   "execution_count": 5,
   "id": "b5c81638-1e48-4d76-b915-d309a98ebf2f",
   "metadata": {},
   "outputs": [
    {
     "name": "stdout",
     "output_type": "stream",
     "text": [
      "<book>Harry Potter and the Sorcerer's Stone</book>\n",
      "<book>Harry Potter and the Chamber of Secrets</book>\n",
      "<book>Harry Potter and the Prisoner of Azkaban</book>\n",
      "<book>Harry Potter and the Goblet of Fire</book>\n",
      "<book>Harry Potter and the Order of the Phoenix</book>\n",
      "<book>Harry Potter and the Half-Blood Prince</book>\n",
      "<book>Harry Potter and the Deathly Hallows</book>\n",
      "<book>The Casual Vacancy</book>\n",
      "<book>The Cuckoo's Calling (as Robert Galbraith)</book>\n",
      "<book>The Silkworm (as Robert Galbraith)</book>\n",
      "<book>Career of Evil (as Robert Galbraith)</book>\n",
      "<book>Lethal White (as Robert Galbraith)</book>\n",
      "<book>Troubled Blood (as Robert Galbraith)</book>\n"
     ]
    }
   ],
   "source": [
    "author_query = \"Write all the books written by JK Rowling.\"\n",
    "output = model.invoke(\n",
    "    f\"\"\"{author_query}\n",
    "Please enclose the books in <book></book> tags\"\"\"\n",
    ")\n",
    "print(output.content)"
   ]
  },
  {
   "cell_type": "code",
   "execution_count": 8,
   "id": "4f5804ef-9847-47d2-a404-daebaa821149",
   "metadata": {},
   "outputs": [
    {
     "name": "stdout",
     "output_type": "stream",
     "text": [
      "{'books': [{'book': \"Harry Potter and the Philosopher's Stone\"}, {'book': 'Harry Potter and the Chamber of Secrets'}, {'book': 'Harry Potter and the Prisoner of Azkaban'}, {'book': 'Harry Potter and the Goblet of Fire'}, {'book': 'Harry Potter and the Order of the Phoenix'}, {'book': 'Harry Potter and the Half-Blood Prince'}, {'book': 'Harry Potter and the Deathly Hallows'}, {'book': 'The Casual Vacancy'}, {'book': \"The Cuckoo's Calling\"}, {'book': 'The Silkworm'}, {'book': 'Career of Evil'}, {'book': 'Lethal White'}, {'book': 'Troubled Blood'}]}\n"
     ]
    }
   ],
   "source": [
    "parser = XMLOutputParser()\n",
    "\n",
    "prompt = PromptTemplate(\n",
    "    template=\"\"\"{query}\\n{format_instructions}\"\"\",\n",
    "    input_variables=[\"query\"],\n",
    "    partial_variables={\"format_instructions\": parser.get_format_instructions()},\n",
    ")\n",
    "\n",
    "chain = prompt | model | parser\n",
    "\n",
    "output = chain.invoke({\"query\": author_query})\n",
    "print(output)"
   ]
  },
  {
   "cell_type": "markdown",
   "id": "b53e7cb8-3ad7-4f7c-8ce3-e1185af9d773",
   "metadata": {},
   "source": [
    "## YAML Output Parser "
   ]
  },
  {
   "cell_type": "code",
   "execution_count": 9,
   "id": "79817f31-5244-4de2-83b7-d6ab3b3349a1",
   "metadata": {},
   "outputs": [],
   "source": [
    "from typing import List\n",
    "\n",
    "from langchain.output_parsers import YamlOutputParser\n",
    "from langchain_core.prompts import PromptTemplate\n",
    "from langchain_core.pydantic_v1 import BaseModel, Field\n",
    "from langchain_openai import ChatOpenAI"
   ]
  },
  {
   "cell_type": "code",
   "execution_count": 10,
   "id": "1a3b88bc-e93e-4926-b7a8-d30af6cd3752",
   "metadata": {},
   "outputs": [],
   "source": [
    "class Joke(BaseModel):\n",
    "    setup: str = Field(description=\"question to set up a joke\")\n",
    "    punchline: str = Field(description=\"answer to resolve the joke\")"
   ]
  },
  {
   "cell_type": "code",
   "execution_count": 11,
   "id": "43f9c3fa-bcc5-4b8e-9a65-ca623c5de021",
   "metadata": {},
   "outputs": [
    {
     "data": {
      "text/plain": [
       "Joke(setup=\"Why don't skeletons fight each other?\", punchline=\"They don't have the guts.\")"
      ]
     },
     "execution_count": 11,
     "metadata": {},
     "output_type": "execute_result"
    }
   ],
   "source": [
    "joke_query = \"Tell me a joke.\"\n",
    "\n",
    "# Set up a parser + inject instructions into the prompt template.\n",
    "parser = YamlOutputParser(pydantic_object=Joke)\n",
    "\n",
    "prompt = PromptTemplate(\n",
    "    template=\"Answer the user query.\\n{format_instructions}\\n{query}\\n\",\n",
    "    input_variables=[\"query\"],\n",
    "    partial_variables={\"format_instructions\": parser.get_format_instructions()},\n",
    ")\n",
    "\n",
    "chain = prompt | model | parser\n",
    "\n",
    "chain.invoke({\"query\": joke_query})"
   ]
  }
 ],
 "metadata": {
  "kernelspec": {
   "display_name": "Python 3 (ipykernel)",
   "language": "python",
   "name": "python3"
  },
  "language_info": {
   "codemirror_mode": {
    "name": "ipython",
    "version": 3
   },
   "file_extension": ".py",
   "mimetype": "text/x-python",
   "name": "python",
   "nbconvert_exporter": "python",
   "pygments_lexer": "ipython3",
   "version": "3.11.4"
  }
 },
 "nbformat": 4,
 "nbformat_minor": 5
}
