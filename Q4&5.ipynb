{
 "cells": [
  {
   "cell_type": "markdown",
   "metadata": {},
   "source": [
    "## Question 4 & 5\n",
    "\n",
    "\n",
    "4. Visit python.langchain.com/docs/modules/model_io/prompts/example_selectors/ngram_overlap/ and implement n-gram overlap selector\n",
    "\n",
    "5. Visit python.langchain.com/docs/modules/model_io/prompts/example_selectors/similarity and implement semantic similarity selector"
   ]
  },
  {
   "cell_type": "markdown",
   "metadata": {},
   "source": [
    "## **Import Files**"
   ]
  },
  {
   "cell_type": "code",
   "execution_count": 1,
   "metadata": {},
   "outputs": [],
   "source": [
    "from langchain_chroma import Chroma\n",
    "from langchain_core.example_selectors import SemanticSimilarityExampleSelector\n",
    "from langchain_community.example_selectors import NGramOverlapExampleSelector\n",
    "from langchain_core.prompts import FewShotPromptTemplate, PromptTemplate\n",
    "from langchain_openai import AzureOpenAIEmbeddings\n"
   ]
  },
  {
   "cell_type": "code",
   "execution_count": 2,
   "metadata": {},
   "outputs": [],
   "source": [
    "\n",
    "# initializing the embeddin model\n",
    "embeddings = AzureOpenAIEmbeddings(\n",
    "    model=\"ADA_RAG_DONO_DEMO\",\n",
    "    api_key=\"35e177acfb054c28a1058071beb6e609\",\n",
    "    api_version=\"2024-02-01\",\n",
    "    azure_endpoint=\"https://dono-rag-demo-resource-instance.openai.azure.com\"\n",
    ")"
   ]
  },
  {
   "cell_type": "markdown",
   "metadata": {},
   "source": [
    "## Semantic Similarity Selector"
   ]
  },
  {
   "cell_type": "code",
   "execution_count": 3,
   "metadata": {},
   "outputs": [],
   "source": [
    "#creating the examples\n",
    "example_prompt = PromptTemplate(\n",
    "    input_variables=[\"sentence\", \"subject\"],\n",
    "    template=\"Sentence: {sentence}\\nSubject: {subject}\",\n",
    ")\n",
    "\n",
    "examples = [\n",
    "    {\"sentence\": \"The cat sat on the mat.\", \"subject\": \"The cat\"},\n",
    "    {\"sentence\": \"She enjoys reading books.\", \"subject\": \"She\"},\n",
    "    {\"sentence\": \"The children are playing in the park.\", \"subject\": \"The children\"},\n",
    "    {\"sentence\": \"John and Mary went to the store.\", \"subject\": \"John and Mary\"},\n",
    "    {\"sentence\": \"A dog barked loudly at the stranger.\", \"subject\": \"A dog\"},\n",
    "    {\"sentence\": \"The teacher explained the lesson.\", \"subject\": \"The teacher\"},\n",
    "    {\"sentence\": \"Birds are singing in the trees.\", \"subject\": \"Birds\"},\n",
    "    {\"sentence\": \"My brother loves to play basketball.\", \"subject\": \"My brother\"},\n",
    "    {\"sentence\": \"The book was on the table.\", \"subject\": \"The book\"},\n",
    "    {\"sentence\": \"Cars zoomed past the busy intersection.\", \"subject\": \"Cars\"},\n",
    "    {\"sentence\": \"Her smile brightened the room.\", \"subject\": \"Her smile\"},\n",
    "    {\"sentence\": \"They will arrive tomorrow.\", \"subject\": \"They\"},\n",
    "]\n"
   ]
  },
  {
   "cell_type": "code",
   "execution_count": 4,
   "metadata": {},
   "outputs": [],
   "source": [
    "# defining the example selector\n",
    "example_selector = SemanticSimilarityExampleSelector.from_examples(\n",
    "    examples,\n",
    "    embeddings,\n",
    "    Chroma,\n",
    "    k=2,\n",
    ")\n",
    "\n",
    "similar_prompt = FewShotPromptTemplate(\n",
    "    example_selector=example_selector,\n",
    "    example_prompt=example_prompt,\n",
    "    prefix=\"Give the subject of every input sentence\",\n",
    "    suffix=\"Input: {sentence}\\nOutput:\",\n",
    "    input_variables=[\"sentence\"],\n",
    ")"
   ]
  },
  {
   "cell_type": "code",
   "execution_count": 5,
   "metadata": {},
   "outputs": [
    {
     "name": "stdout",
     "output_type": "stream",
     "text": [
      "Give the subject of every input sentence\n",
      "\n",
      "Sentence: The cat sat on the mat.\n",
      "Subject: The cat\n",
      "\n",
      "Sentence: A dog barked loudly at the stranger.\n",
      "Subject: A dog\n",
      "\n",
      "Input: The quick brown fox jumps over the lazy dog.\n",
      "Output:\n"
     ]
    }
   ],
   "source": [
    "# Result\n",
    "print(similar_prompt.format(sentence=\"The quick brown fox jumps over the lazy dog.\"))"
   ]
  },
  {
   "cell_type": "code",
   "execution_count": 6,
   "metadata": {},
   "outputs": [
    {
     "name": "stdout",
     "output_type": "stream",
     "text": [
      "Give the subject of every input sentence\n",
      "\n",
      "Sentence: John and Mary went to the store.\n",
      "Subject: John and Mary\n",
      "\n",
      "Sentence: They will arrive tomorrow.\n",
      "Subject: They\n",
      "\n",
      "Input: Alice and Bob are going to the concert.\n",
      "Output:\n"
     ]
    }
   ],
   "source": [
    "# Result\n",
    "print(similar_prompt.format(sentence=\"Alice and Bob are going to the concert.\"))"
   ]
  },
  {
   "cell_type": "code",
   "execution_count": 7,
   "metadata": {},
   "outputs": [
    {
     "name": "stdout",
     "output_type": "stream",
     "text": [
      "Give the subject of every input sentence\n",
      "\n",
      "Sentence: The teacher explained the lesson.\n",
      "Subject: The teacher\n",
      "\n",
      "Sentence: The teacher explained the lesson.\n",
      "Subject: The teacher\n",
      "\n",
      "Input: Our teacher teaches good.\n",
      "Output:\n"
     ]
    }
   ],
   "source": [
    "# Checking after adding new examples\n",
    "similar_prompt.example_selector.add_example(\n",
    "    {\"sentence\": \"The teacher explained the lesson.\", \"subject\": \"The teacher\"}\n",
    ")\n",
    "similar_prompt.example_selector.add_example(\n",
    "    {\"sentence\": \"Her smile brightened the room.\", \"subject\": \"Her smile\"}\n",
    ")\n",
    "print(similar_prompt.format(sentence=\"Our teacher teaches good.\"))"
   ]
  },
  {
   "cell_type": "markdown",
   "metadata": {},
   "source": [
    "## N-Gram Overlap Selector"
   ]
  },
  {
   "cell_type": "code",
   "execution_count": 8,
   "metadata": {},
   "outputs": [],
   "source": [
    "# creating the n-gram example selector\n",
    "example_selector = NGramOverlapExampleSelector(\n",
    "    examples=examples,\n",
    "    example_prompt=example_prompt,\n",
    "    threshold=-1.0,\n",
    ")\n",
    "\n",
    "dynamic_prompt = FewShotPromptTemplate(\n",
    "    example_selector=example_selector,\n",
    "    example_prompt=example_prompt,\n",
    "    prefix=\"Give the subject of every input sentence\",\n",
    "    suffix=\"Input: {sentence}\\nOutput:\",\n",
    "    input_variables=[\"sentence\"],\n",
    ")"
   ]
  },
  {
   "cell_type": "code",
   "execution_count": 9,
   "metadata": {},
   "outputs": [
    {
     "name": "stdout",
     "output_type": "stream",
     "text": [
      "Give the subject of every input sentence\n",
      "\n",
      "Sentence: The cat sat on the mat.\n",
      "Subject: The cat\n",
      "\n",
      "Sentence: The children are playing in the park.\n",
      "Subject: The children\n",
      "\n",
      "Sentence: The teacher explained the lesson.\n",
      "Subject: The teacher\n",
      "\n",
      "Sentence: The book was on the table.\n",
      "Subject: The book\n",
      "\n",
      "Sentence: John and Mary went to the store.\n",
      "Subject: John and Mary\n",
      "\n",
      "Sentence: A dog barked loudly at the stranger.\n",
      "Subject: A dog\n",
      "\n",
      "Sentence: Birds are singing in the trees.\n",
      "Subject: Birds\n",
      "\n",
      "Sentence: Cars zoomed past the busy intersection.\n",
      "Subject: Cars\n",
      "\n",
      "Sentence: Her smile brightened the room.\n",
      "Subject: Her smile\n",
      "\n",
      "Sentence: She enjoys reading books.\n",
      "Subject: She\n",
      "\n",
      "Sentence: My brother loves to play basketball.\n",
      "Subject: My brother\n",
      "\n",
      "Sentence: They will arrive tomorrow.\n",
      "Subject: They\n",
      "\n",
      "Input: The quick brown fox jumps over the lazy dog.\n",
      "Output:\n"
     ]
    }
   ],
   "source": [
    "# result\n",
    "print(dynamic_prompt.format(sentence=\"The quick brown fox jumps over the lazy dog.\"))"
   ]
  },
  {
   "cell_type": "code",
   "execution_count": 10,
   "metadata": {},
   "outputs": [
    {
     "name": "stdout",
     "output_type": "stream",
     "text": [
      "Give the subject of every input sentence\n",
      "\n",
      "Sentence: The cat sat on the mat.\n",
      "Subject: The cat\n",
      "\n",
      "Sentence: The children are playing in the park.\n",
      "Subject: The children\n",
      "\n",
      "Sentence: The teacher explained the lesson.\n",
      "Subject: The teacher\n",
      "\n",
      "Sentence: The book was on the table.\n",
      "Subject: The book\n",
      "\n",
      "Input: The quick brown fox jumps over the lazy dog.\n",
      "Output:\n"
     ]
    }
   ],
   "source": [
    "# checking after changing the threshold\n",
    "example_selector.threshold = 0.028\n",
    "print(dynamic_prompt.format(sentence=\"The quick brown fox jumps over the lazy dog.\"))"
   ]
  },
  {
   "cell_type": "code",
   "execution_count": null,
   "metadata": {},
   "outputs": [],
   "source": []
  }
 ],
 "metadata": {
  "kernelspec": {
   "display_name": "Python 3 (ipykernel)",
   "language": "python",
   "name": "python3"
  },
  "language_info": {
   "codemirror_mode": {
    "name": "ipython",
    "version": 3
   },
   "file_extension": ".py",
   "mimetype": "text/x-python",
   "name": "python",
   "nbconvert_exporter": "python",
   "pygments_lexer": "ipython3",
   "version": "3.11.4"
  }
 },
 "nbformat": 4,
 "nbformat_minor": 2
}
